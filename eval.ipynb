{
 "cells": [
  {
   "cell_type": "code",
   "execution_count": 4,
   "metadata": {},
   "outputs": [
    {
     "name": "stderr",
     "output_type": "stream",
     "text": [
      "/home/matheus/ri_ppgeec_analysis/venv-chathesis/lib/python3.10/site-packages/pinecone/data/index.py:1: TqdmWarning: IProgress not found. Please update jupyter and ipywidgets. See https://ipywidgets.readthedocs.io/en/stable/user_install.html\n",
      "  from tqdm.autonotebook import tqdm\n"
     ]
    }
   ],
   "source": [
    "import sys\n",
    "import tiktoken\n",
    "\n",
    "from rag.chains import rag_chain_with_source\n",
    "from rag.retriever import retriever, vectostore, metadata_field_info, document_content_description, llm\n",
    "\n",
    "from langchain.chains.query_constructor.base import (\n",
    "    StructuredQueryOutputParser,\n",
    "    get_query_constructor_prompt,\n",
    ")"
   ]
  },
  {
   "cell_type": "code",
   "execution_count": 5,
   "metadata": {},
   "outputs": [],
   "source": [
    "def get_cost(query, answer):\n",
    "    price_per_milion_input = 0.150\n",
    "    price_per_milion_output = 0.600\n",
    "\n",
    "    encoding = tiktoken.encoding_for_model(\"gpt-4o-mini\")\n",
    "\n",
    "    num_tokens_input = len(encoding.encode(query))\n",
    "    num_tokens_output = len(encoding.encode(answer))\n",
    "\n",
    "    cost_input = price_per_milion_input * num_tokens_input / 1_000_000\n",
    "    cost_output = price_per_milion_output * num_tokens_output / 1_000_000\n",
    "\n",
    "    print(f\"Input cost: ${cost_input:.6f}\")\n",
    "    print(f\"Output cost: ${cost_output:.6f}\")"
   ]
  },
  {
   "cell_type": "code",
   "execution_count": 6,
   "metadata": {},
   "outputs": [],
   "source": [
    "prompt = get_query_constructor_prompt(\n",
    "    document_content_description,\n",
    "    metadata_field_info\n",
    ")\n",
    "\n",
    "parser = StructuredQueryOutputParser.from_components()\n",
    "\n",
    "def get_query_constructor(query):\n",
    "    query_constructor = prompt | llm | parser\n",
    "\n",
    "    print(query_constructor.invoke(query))"
   ]
  },
  {
   "cell_type": "markdown",
   "metadata": {},
   "source": [
    "# Category"
   ]
  },
  {
   "cell_type": "markdown",
   "metadata": {},
   "source": [
    "## Q1"
   ]
  },
  {
   "cell_type": "code",
   "execution_count": 7,
   "metadata": {},
   "outputs": [],
   "source": [
    "query = \"Me retorne 2 trabalhos acadêmicos\"\n",
    "\n",
    "answer = rag_chain_with_source.invoke({\"prompt\": query})[\"answer\"]"
   ]
  },
  {
   "cell_type": "code",
   "execution_count": 8,
   "metadata": {},
   "outputs": [
    {
     "name": "stdout",
     "output_type": "stream",
     "text": [
      "query=' ' filter=None limit=None\n"
     ]
    }
   ],
   "source": [
    "get_query_constructor(query)"
   ]
  },
  {
   "cell_type": "code",
   "execution_count": 9,
   "metadata": {},
   "outputs": [
    {
     "name": "stdout",
     "output_type": "stream",
     "text": [
      "Título: Moduladores Sigma-Delta passa-banda programáveis usando filtro N-Path (2023)  \n",
      "Autor: Evelyn Cristina de Oliveira Lima (Mestrado)  \n",
      "Orientador: Diomadson Rodrigues Belfort  \n",
      "Resumo: No Rádio Definido por Software (SDR) a maioria das funções analógicas, como a conversão descendente e a seleção de canal são movidas para o domínio digital. Com esses recursos, um SDR pode ser facilmente programado e adaptado a novos padrões. No entanto, sua implementação usando um conversor analógico-digital (ADC) de taxa de Nyquist tem sido desafiadora e com consumo muito elevado, o que o torna impróprio para aplicativos móveis. SDM (Modulador Sigma-Delta) usando ressonadores LC são bem adequados para essa finalidade, pois podem converter uma banda estreita em torno de uma frequência central de radiofrequência (RF). Na literatura, o SDM baseado em LC de alta ordem usa os nós entre os tanques LC para feedforward ou coeficientes de realimentação, de modo a obter a função de transferência de ruído desejada (NTF). Esses nós são geralmente uma fonte adicional de ruído, não linearidade e consumo de energia afetando o desempenho geral do SDM. Neste projeto, tem-se por objetivo explorar as funcionalidades dos filtros N-Path para implementar um Modulador Sigma-Delta passa banda programável que atenda a vários padrões de comunicação. Fez-se, portanto, necessário uma pesquisa bibliográfica e tecnológica sobre o estado da arte de filtro N-path, Moduladores Sigma-Delta de tempo contínuo e tempo discreto. Deu-se também o desenvolvimento de modelos de alto nível para diferentes categorias de topologias de Moduladores Sigma-Delta implementados com filtros LC e de tempo discreto para servir de modelos de comparação com a metodologia de projeto da topologia utilizando o filtro N-path proposta neste trabalho. Foi desenvolvido um modelo de alto nível do filtro N-Path e atualmente o trabalho está na etapa de integração do filtro N-path e SDM. Os resultados obtidos a partir da implementação do SDM com filtros LC mostram que o modulador possui uma boa concordância com seu equivalente DT. Em experimentos inicias, a implementação do SDM com circuito RLC equivalente ao filtro N-path mostrou-se promissora ao apresentar resultados semelhantes aos obtidos com a topologia de tempo discreto.  \n",
      "Palavras-chave: 'Conversor analógico-digital', 'Modulador Sigma-Delta', 'Filtro N-Path'  \n",
      "ODS: 7  \n",
      "\n",
      "Título: Conversor CC/CA de alta freqüência baseado em inversores ressonantes com comutação seqüencial para excitação de uma tocha indutiva a plasma térmico (2010)  \n",
      "Autor: Jean Paul Dubut (Doutorado)  \n",
      "Orientador: Andrés Ortiz Salazar  \n",
      "Resumo: Este trabalho descreve o estudo, a análise, a metodologia de projeto e os detalhes de construção de um conversor ressonante CC/CA de alta freqüência usando técnicas de comutação seqüencial (sequential pulse gating), para a excitação de uma tocha indutiva a plasma térmico. Esta tese objetiva mostrar a potencialidade desta nova técnica de modulação e apresentar uma alternativa tecnológica para o projeto de conversores eletrônicos de potência em altas freqüências. O conversor ressonante opera na freqüência nominal de 400 kHz, com potência de 50 kW, e é constituído por células inversoras empregando chaves IGBTs de comutação rápida. Para minimizar as perdas de comutação no corte, as células ressonantes operam no modo de chaveamento suave ZVS, referenciado por uma malha PLL modificada que mantém esta condição estável apesar das variações de carga. A estratégia de comando por comutação seqüencial permite operar os dispositivos IGBTs no seu limite superior de potência usando as propriedades de redução (derating) e de alívio (destressing) de corrente, assim como propicia um efeito de multiplicação na freqüência final do conjunto de inversores. A saída do conversor é conectada a um circuito ressonante série formado pelo aplicador da tocha ICTP e um capacitor de compensação, por intermédio de um transformador RF de adaptação de impedâncias. No final, são apresentados resultados experimentais e ensaios conduzidos em laboratório como forma de validar a nova técnica proposta.  \n",
      "Palavras-chave: 'Conversor CC/CA', 'Inversor ressonante', 'Comutação sequencial', 'Rádiofreqüência', 'Series resonant inverter', 'IGBT', 'Sequential pulse gating', 'Soft switching ZVS', 'Thermal plasma'  \n",
      "ODS: 7  \n"
     ]
    }
   ],
   "source": [
    "print(answer)"
   ]
  },
  {
   "cell_type": "code",
   "execution_count": 10,
   "metadata": {},
   "outputs": [
    {
     "name": "stdout",
     "output_type": "stream",
     "text": [
      "Input cost: $0.000001\n",
      "Output cost: $0.000591\n"
     ]
    }
   ],
   "source": [
    "get_cost(query, answer)"
   ]
  },
  {
   "cell_type": "markdown",
   "metadata": {},
   "source": [
    "## Q2"
   ]
  },
  {
   "cell_type": "code",
   "execution_count": 8,
   "metadata": {},
   "outputs": [],
   "source": [
    "query = \"Me retorne 2 trabalhos acadêmicos de mestrado\"\n",
    "\n",
    "answer = rag_chain_with_source.invoke({\"prompt\": query})[\"answer\"]"
   ]
  },
  {
   "cell_type": "code",
   "execution_count": 9,
   "metadata": {},
   "outputs": [
    {
     "name": "stdout",
     "output_type": "stream",
     "text": [
      "query=' ' filter=Comparison(comparator=<Comparator.EQ: 'eq'>, attribute='category', value='MSc') limit=None\n"
     ]
    }
   ],
   "source": [
    "get_query_constructor(query)"
   ]
  },
  {
   "cell_type": "code",
   "execution_count": 10,
   "metadata": {},
   "outputs": [
    {
     "name": "stdout",
     "output_type": "stream",
     "text": [
      "Título: Dispositivos internos para coleta automática de dados de material particulado no ar com aplicação na prevenção e mitigação de Covid-19 e outras endemias de síndrome respiratória aguda grave (2022)\n",
      "Autor: Arthur Andrade Bezerra (Mestrado)\n",
      "Orientador: Luiz Marcos Garcia Gonçalves\n",
      "Resumo: Este trabalho propõe o desenvolvimento, calibração e validação de um dispositivo capaz de capturar ativamente dados relacionados à aferição de qualidade do ar para uma futura prevenção e comparação com índices de dados pandêmicos/endêmicos por localização utilizando sensores PM2.5, temperatura e umidade, juntamente com um microcontrolador capaz de enviar todas as informações necessárias para um banco de dados. Por ser um projeto que necessita de grande escala para que seja possível capturar índices de qualidade do ar na maior quantidade de pontos possível visando obter dados com uma granularidade muito alta, o desenvolvimento está sendo pensado sempre visualizando o custo-benefício dos componentes utilizados para que seja possível replicar, e também o desenvolvimento faz parte de um projeto maior, que deverá disponibilizar à comunidade uma plataforma completa, capaz de fornecer dados de qualidade do ar em tempo real.\n",
      "Palavras-chave: ('Covid-19', 'Índice de qualidade do ar', 'Sistema embarcado', 'Matéria particulada')\n",
      "ODS: 3\n",
      "\n",
      "Título: Nova proposta de representação de genoma viral aplicada na classificação do Sars-Cov-2 com aprendizagem profunda (2022)\n",
      "Autor: Luisa Christina de Souza (Mestrado)\n",
      "Orientador: Marcelo Augusto Costa Fernandes\n",
      "Resumo: Em dezembro de 2019, o primeiro caso de COVID-19 foi observado, e em julho de 2022, já haviam 540 milhões de casos confirmados. Devido a rápida propagação do vírus, esforços vêm sendo realizados pela comunidade científica para o desenvolvimento de técnicas de classificação viral do SARS-CoV-2. Neste trabalho, foi desenvolvida uma nova proposta de representação de sequências genéticas aplicada a amostras de seis vírus da família Coronaviridae, à qual pertence o vírus SARS-CoV-2, utilizando um conjunto de técnicas de Processamento de Sinais Genômicos. A assinatura viral obtida pelo método proposto foi aplicada a uma arquitetura de aprendizagem profunda para classificação viral, obtendo uma acurácia de 98,9%, 97,9% e 99,4% para os comprimentos de vetor 64, 128 e 256, respectivamente, e obtendo uma precisão de 99,97% para os vetores com tamanho 256, demonstrando que o mapeamento proposto alcançou desempenho satisfatório com baixos custos de memória computacional e tempo de processamento. Por fim, dada a taxa de mutação de vírus de RNA, novas variantes surgiram e com elas a possibilidade de aumento de casos. Utilizando a técnica desenvolvida, foi realizada uma análise da evolução de cinco variantes de preocupação do vírus SARS-CoV-2 em dois procedimentos de classificação viral. Os resultados obtidos auxiliam na compreensão da evolução do perfil genético das variantes analisadas.\n",
      "Palavras-chave: ('Covid-19', 'Sars-Cov-2', 'Representação genômica', 'Processamento de sinais genômicos', 'Aprendizagem profunda')\n",
      "ODS: 17\n"
     ]
    }
   ],
   "source": [
    "print(answer)"
   ]
  },
  {
   "cell_type": "code",
   "execution_count": 11,
   "metadata": {},
   "outputs": [
    {
     "name": "stdout",
     "output_type": "stream",
     "text": [
      "Input cost: $0.000002\n",
      "Output cost: $0.000403\n"
     ]
    }
   ],
   "source": [
    "get_cost(query, answer)"
   ]
  },
  {
   "cell_type": "markdown",
   "metadata": {},
   "source": [
    "## Q3"
   ]
  },
  {
   "cell_type": "code",
   "execution_count": 12,
   "metadata": {},
   "outputs": [],
   "source": [
    "query = \"Me retorne 2 trabalhos acadêmicos de doutorado\"\n",
    "\n",
    "answer = rag_chain_with_source.invoke({\"prompt\": query})[\"answer\"]"
   ]
  },
  {
   "cell_type": "code",
   "execution_count": 13,
   "metadata": {},
   "outputs": [
    {
     "name": "stdout",
     "output_type": "stream",
     "text": [
      "query=' ' filter=Comparison(comparator=<Comparator.EQ: 'eq'>, attribute='category', value='PhD') limit=None\n"
     ]
    }
   ],
   "source": [
    "get_query_constructor(query)"
   ]
  },
  {
   "cell_type": "code",
   "execution_count": 14,
   "metadata": {},
   "outputs": [
    {
     "name": "stdout",
     "output_type": "stream",
     "text": [
      "Título: Stacked Sparse Autoencoder applied to SARS-CoV-2 virus classification based on image representations of genome sequences (2023)  \n",
      "Autor: Maria Gracielly Fernandes Coutinho (Doutorado)  \n",
      "Orientador: Marcelo Augusto Costa Fernandes  \n",
      "Resumo: Desde dezembro de 2019, o mundo foi severamente afetado pela pandemia de COVID19, ocasionada pelo vírus SARS-CoV-2. Em casos como este de nova identificação viral, a elucidação precoce da classificação taxonômica e origem dos genomas de vírus são essenciais para planejamento, contenção e tratamentos. As técnicas de Aprendizagem Profunda vêm sendo utilizadas com sucesso em diversos problemas de classificação viral, associadas ao diagnóstico de infecções virais, metagenômica, análise filogenética, entre outros. Considerando esta motivação, este trabalho tem como proposta gerar um eficaz classificador do genoma viral direcionado ao vírus SARS-CoV-2, utilizando a técnica de Aprendizagem Profunda baseada em Stacked Sparse Autoencoder (SSAE). Para o melhor desempenho do modelo, exploramos a utilização de representações de imagens das sequências completas do genoma como entrada do SSAE para fornecer a classificação do vírus SARS-CoV-2. Para isso, foram explorados dois conjuntos de dados: utilizando representações de imagens baseadas em k-mers e utilizando representações de imagens baseadas em Chaos Game Representation (CGR). O conjunto de dados composto por representações de imagens baseadas em k-mers foi aplicado nos experimentos de classificação em diferentes níveis de taxonomia do vírus SARS-CoV-2, enquanto o conjunto de dados baseado em imagens CGR foi aplicado nos experimentos de classificação das variantes de preocupação do SARS-CoV-2. Para os experimentos de classificação taxonômica, a técnica SSAE forneceu ótimos resultados, alcançando acurácias entre 92% e 100% para o conjunto de validação, e entre 98.9% e 100% de acurácia para o conjunto de teste, que aplicou amostras do SARS-CoV-2. Isto indica que o nosso modelo pode ser adaptado para classificar outros vírus emergentes. Para os experimentos de classificação das variantes do SARS-CoV-2 utilizando imagens CGR, a técnica SSAE proporcionou resultados ainda melhores, alcançando acurácia de classificação de 99,9% para o conjunto de validação e 99,8% para o conjunto de teste. Por fim, os resultados indicaram a aplicabilidade desta técnica de aprendizagem profunda em problemas de classificação de genomas.  \n",
      "Palavras-chave: ('Deep learning', 'SARS-CoV-2', 'Covid-19', 'Viral classification', 'Image representations')  \n",
      "ODS: 3  \n",
      "\n",
      "Título: A set of independent variables for time series regression tasks of pandemic scenarios based on Covid-19 (2024)  \n",
      "Autor: Dunfrey Pires Aragão (Doutorado)  \n",
      "Orientador: Luiz Marcos Garcia Gonçalves  \n",
      "Resumo: Elaboramos investigações sobre uma ampla gama de variáveis que abrangem fatores, intervenções governamentais e eventos, com potenciais implicações na dinâmica de disseminação do SARS-CoV-2, seja positiva ou negativamente, com base na tendência de casos e mortes, que podem ser utilizadas como recursos na redução de erros em tarefas de regressão em contextos pandêmicos como o COVID-19. O estudo emprega uma estrutura de aprendizado de máquina para discernir características e parâmetros pertinentes que são fundamentais para elucidar a intrincada relação entre a incidência de COVID19 e as taxas de mortalidade em diversas resoluções espaciais e temporais. A estratégia envolve a realização de um levantamento sistemático de características para coleta e limpeza de dados, agrupamento, redução da dimensionalidade dos dados, aplicação de técnicas de aprendizado de máquina com suporte de modelos como ARIMA sazonal e LSTM, e avaliação da generalização do modelo por meio de análise de componentes e redes. A utilização de um conjunto específico de variáveis independentes para prever as mortes por COVID-19 pode melhorar a precisão, reduzir o desvio padrão dos valores reais e evitar a subespecificação do problema. As principais contribuições deste trabalho envolvem uma investigação abrangente dos fatores causais e potenciais inter-relações entre fenômenos, intervenções governamentais e eventos que influenciam a dinâmica de propagação do vírus em locais urbanos, abrangendo cidades e países. Ao fornecer recursos complementares, esta investigação oferece um apoio valioso aos órgãos governamentais e entidades autorizadas na navegação nos processos de tomada de decisão em meio a potenciais cenários de pandemia, como a crise da COVID-19, que, embora ainda presente, tem uma taxa de mortalidade mais baixa. Nossas descobertas não apenas oferecem insights sobre possíveis preditores da transmissão da COVID-19, mas também fornecem uma estrutura estruturada para aumentar a eficácia dos modelos de regressão de séries temporais no complexo cenário de cenários pandêmicos.  \n",
      "Palavras-chave: ('Covid-19', 'Machine learning', 'Feature survey', 'Data selection', 'Time series regression models')  \n",
      "ODS: 3  \n"
     ]
    }
   ],
   "source": [
    "print(answer)"
   ]
  },
  {
   "cell_type": "code",
   "execution_count": 15,
   "metadata": {},
   "outputs": [
    {
     "name": "stdout",
     "output_type": "stream",
     "text": [
      "Input cost: $0.000002\n",
      "Output cost: $0.000643\n"
     ]
    }
   ],
   "source": [
    "get_cost(query, answer)"
   ]
  },
  {
   "cell_type": "markdown",
   "metadata": {},
   "source": [
    "# Title"
   ]
  },
  {
   "cell_type": "markdown",
   "metadata": {},
   "source": [
    "## Q1"
   ]
  },
  {
   "cell_type": "code",
   "execution_count": 16,
   "metadata": {},
   "outputs": [],
   "source": [
    "query = \"Me retorne o trabalho entitulado 'Análise de desempenho de sistemas de comunicação sem-fio para monitoramento de unidade de produção de poços petrolíferos terrestres'\"\n",
    "\n",
    "answer = rag_chain_with_source.invoke({\"prompt\": query})[\"answer\"]"
   ]
  },
  {
   "cell_type": "code",
   "execution_count": 17,
   "metadata": {},
   "outputs": [
    {
     "name": "stdout",
     "output_type": "stream",
     "text": [
      "query='Análise de desempenho de sistemas de comunicação sem-fio para monitoramento de unidade de produção de poços petrolíferos terrestres' filter=None limit=None\n"
     ]
    }
   ],
   "source": [
    "get_query_constructor(query)"
   ]
  },
  {
   "cell_type": "code",
   "execution_count": 18,
   "metadata": {},
   "outputs": [
    {
     "name": "stdout",
     "output_type": "stream",
     "text": [
      "Título: Análise de desempenho de sistemas de comunicação sem-fio para monitoramento de unidade de produção de poços petrolíferos terrestres (2008)  \n",
      "Autor: Ivanovitch Medeiros Dantas da Silva (Mestrado)  \n",
      "Orientador: Luiz Affonso Henderson Guedes de Oliveira  \n",
      "Resumo: Grande parte do monitoramento de poços petrolíferos terrestres realizados atualmente está baseado em soluções sem fio (wireless). Todavia, essas soluções apresentam uma configuração defasada tecnologicamente na medida em que são utilizados rádios analógicos e topologias de comunicação ineficientes. Por outro lado, tecnologias que adotam rádios digitais podem proporcionar soluções mais eficientes relacionadas com o consumo de energia, segurança e tolerância a falhas. O trabalho investiga se as Redes de Sensores Sem Fio, tecnologia de comunicação que utiliza rádios digitais, são adequadas para o monitoramento de poços petrolíferos terrestres. Porcentagem de pacotes entregues com sucesso, consumo de energia, atrasos de comunicação e técnicas de roteamento para uma topologia em malha são as métricas usadas para validar a proposta através da ferramenta de simulação NS-2.  \n",
      "Palavras-chave: ('Redes de sensores sem fio', 'Simulação', 'Monitoramento de poços petrolíferos', 'Técnicas de roteamento', 'Wireless sensor network', 'Simulation', 'Oil and gas application', 'Routing techniques')  \n",
      "ODS: 7  \n"
     ]
    }
   ],
   "source": [
    "print(answer)"
   ]
  },
  {
   "cell_type": "code",
   "execution_count": 19,
   "metadata": {},
   "outputs": [
    {
     "name": "stdout",
     "output_type": "stream",
     "text": [
      "Input cost: $0.000006\n",
      "Output cost: $0.000183\n"
     ]
    }
   ],
   "source": [
    "get_cost(query, answer)"
   ]
  },
  {
   "cell_type": "markdown",
   "metadata": {},
   "source": [
    "# Author"
   ]
  },
  {
   "cell_type": "markdown",
   "metadata": {},
   "source": [
    "## Q1"
   ]
  },
  {
   "cell_type": "code",
   "execution_count": 20,
   "metadata": {},
   "outputs": [],
   "source": [
    "query = \"Me retorne trabalhos acadêmicos cujo autor seja Ivanovitch Medeiros Dantas da Silva\"\n",
    "\n",
    "answer = rag_chain_with_source.invoke({\"prompt\": query})[\"answer\"]"
   ]
  },
  {
   "cell_type": "code",
   "execution_count": 21,
   "metadata": {},
   "outputs": [
    {
     "name": "stdout",
     "output_type": "stream",
     "text": [
      "query=' ' filter=Comparison(comparator=<Comparator.EQ: 'eq'>, attribute='author', value='Ivanovitch Medeiros Dantas da Silva') limit=None\n"
     ]
    }
   ],
   "source": [
    "get_query_constructor(query)"
   ]
  },
  {
   "cell_type": "code",
   "execution_count": 22,
   "metadata": {},
   "outputs": [
    {
     "name": "stdout",
     "output_type": "stream",
     "text": [
      "Título: Análise de desempenho de sistemas de comunicação sem-fio para monitoramento de unidade de produção de poços petrolíferos terrestres (2008)\n",
      "Autor: Ivanovitch Medeiros Dantas da Silva (Mestrado)\n",
      "Orientador: Luiz Affonso Henderson Guedes de Oliveira\n",
      "Resumo: Grande parte do monitoramento de poços petrolíferos terrestres realizados atualmente está baseado em soluções sem fio (wireless). Todavia, essas soluções apresentam uma configuração defasada tecnologicamente na medida em que são utilizados rádios analógicos e topologias de comunicação ineficientes. Por outro lado, tecnologias que adotam rádios digitais podem proporcionar soluções mais eficientes relacionadas com o consumo de energia, segurança e tolerância a falhas. O trabalho investiga se as Redes de Sensores Sem Fio, tecnologia de comunicação que utiliza rádios digitais, são adequadas para o monitoramento de poços petrolíferos terrestres. Porcentagem de pacotes entregues com sucesso, consumo de energia, atrasos de comunicação e técnicas de roteamento para uma topologia em malha são as métricas usadas para validar a proposta através da ferramenta de simulação NS-2.\n",
      "Palavras-chave: ('Redes de sensores sem fio', 'Simulação', 'Monitoramento de poços petrolíferos', 'Técnicas de roteamento', 'Wireless sensor network', 'Simulation', 'Oil and gas application', 'Routing techniques')\n",
      "ODS: 7\n",
      "\n",
      "Título: Uma metodologia para modelagem e avaliação da dependabilidade de redes industriais sem fio (2013)\n",
      "Autor: Ivanovitch Medeiros Dantas da Silva (Doutorado)\n",
      "Orientador: Luiz Affonso Henderson Guedes de Oliveira\n",
      "Resumo: Garantir os requisitos de dependabilidade é fundamental para as aplicações industriais, onde falhas podem conduzir a defeitos cujas consequências impactam em prejuízos econômicos e principalmente danos ambientais e riscos aos operadores. Assim, diante da relevância do tema, esta tese propõem uma metodologia para análise da dependabilidade de redes industriais sem fio (WirelessHART, ISA100.11a, WIA-PA) ainda na fase de projeto. Entretanto, a proposta pode ser facilmente estendida para as fases de manutenção e expansão da rede. A proposta utiliza a teoria de grafos e o formalismo de Árvores de Falhas para criar automaticamente um modelo analítico a partir de uma dada topologia de rede industrial sem fio, onde a dependabilidade possa ser avaliada. As métricas de avaliação suportadas compreendem confiabilidade, disponibilidade e MTTF (tempo médio para falha) da rede, como também medidas de importância dos dispositivos, aspectos de redundância e defeitos em modo comum. Ressalta-se que a proposta independe de qualquer ferramenta para analisar quantitativamente as métricas visadas. Contudo, para propósito de validação da proposta utilizou-se uma ferramenta amplamente aceita na academia para esse fim (SHARPE). Adicionalmente, um algoritmo para geração dos cortes mínimos originalmente aplicado na teoria de grafos foi adaptado para o formalismo das Árvores de Falhas com o objetivo de garantir escalabilidade da metodologia às redes industriais sem fio (< 100 dispositivos). Finalmente, a metodologia proposta foi validada a partir de cenários típicos encontrados em ambientes industriais, como topologias estrela, linha, cluster e mesh. Foram também avaliados cenários com defeitos em modo comum e um conjunto de políticas a serem seguidas na criação de uma rede industrial sem fio. Para garantir aspectos de escalabilidade, uma análise de desempenho foi conduzida, onde pode-se observar a aplicabilidade da metodologia para as redes tipicamente encontradas em ambientes industriais.\n",
      "Palavras-chave: ('Redes industriais sem fio. WirelessHART. ISA100.11a. WIA-PA. Árvores de falhas. Análise de dependabilidade. Confiabilidade. Disponibilidade', 'Wireless industrial networks. WirelessHART. ISA100.11a. WIA-PA. Fault tree. Dependability evaluation. Reliability and availability')\n",
      "ODS: 12\n"
     ]
    }
   ],
   "source": [
    "print(answer)"
   ]
  },
  {
   "cell_type": "code",
   "execution_count": 23,
   "metadata": {},
   "outputs": [
    {
     "name": "stdout",
     "output_type": "stream",
     "text": [
      "Input cost: $0.000003\n",
      "Output cost: $0.000497\n"
     ]
    }
   ],
   "source": [
    "get_cost(query, answer)"
   ]
  },
  {
   "cell_type": "markdown",
   "metadata": {},
   "source": [
    "# Advisor"
   ]
  },
  {
   "cell_type": "markdown",
   "metadata": {},
   "source": [
    "## Q1"
   ]
  },
  {
   "cell_type": "code",
   "execution_count": 24,
   "metadata": {},
   "outputs": [],
   "source": [
    "query = \"Me retorne trabalhos acadêmicos cujo orientador seja Ivanovitch Medeiros Dantas da Silva\"\n",
    "\n",
    "answer = rag_chain_with_source.invoke({\"prompt\": query})[\"answer\"]"
   ]
  },
  {
   "cell_type": "code",
   "execution_count": 25,
   "metadata": {},
   "outputs": [
    {
     "name": "stdout",
     "output_type": "stream",
     "text": [
      "query=' ' filter=Comparison(comparator=<Comparator.EQ: 'eq'>, attribute='advisor', value='Ivanovitch Medeiros Dantas da Silva') limit=None\n"
     ]
    }
   ],
   "source": [
    "get_query_constructor(query)"
   ]
  },
  {
   "cell_type": "code",
   "execution_count": 26,
   "metadata": {},
   "outputs": [
    {
     "name": "stdout",
     "output_type": "stream",
     "text": [
      "Título: Um algoritmo online e evolutivo para compressão automática de dados em cenários de IoT (2021)  \n",
      "Autor: Gabriel Lucas Albuquerque Maia Signoretti (Mestrado)  \n",
      "Orientador: Ivanovitch Medeiros Dantas da Silva  \n",
      "Resumo: Com o avanço e adoção em massa de soluções no campo de Internet das Coisas (IoT) e cidades conectadas, o número de dispositivos e sensores conectados à rede tende a crescer exponencialmente. Nesse cenário, a transmissão e armazenamento do crescente volume de dados trazem novos desafios...  \n",
      "Palavras-chave: ('Compressão de dados online', 'IoT', 'Veículos inteligentes', 'TinyML', 'Aprendizado de máquina', 'Excentricidade de dados')  \n",
      "ODS: 9  \n",
      "\n",
      "Título: A deep learning model for identifying academic publications aligned with the sustainable development goals (2023)  \n",
      "Autor: Alexandre Henrique Soares Dias (Mestrado)  \n",
      "Orientador: Ivanovitch Medeiros Dantas da Silva  \n",
      "Resumo: Em 2015, as Nações Unidas estabeleceram os 17 Objetivos de Desenvolvimento Sustentável (ODS) para promover a responsabilidade ambiental, o avanço econômico e a equidade social...  \n",
      "Palavras-chave: ('Sustainable development', 'Multilabel classification', 'Deep learning', 'Natural language', 'Scientometrics')  \n",
      "ODS: 17  \n",
      "\n",
      "Título: Uma proposta para detecção de buracos com aprendizagem de máquina na borda (2024)  \n",
      "Autor: Jordão Paulino Cassiano da Silva (Mestrado)  \n",
      "Orientador: Ivanovitch Medeiros Dantas da Silva  \n",
      "Resumo: Buracos em vias urbanas representam um problema significativo, afetando tanto a segurança dos usuários quanto a durabilidade dos veículos...  \n",
      "Palavras-chave: ('Aprendizado de máquina na borda', 'Infraestrutura urbana', 'Detecção de buracos', 'Otimização de modelos', 'TinyML')  \n",
      "ODS: 11  \n",
      "\n",
      "Título: Learning analytics e avaliações online: uma metodologia orientada a ciência de dados em grafos (2023)  \n",
      "Autor: Elvis Medeiros de Melo (Doutorado)  \n",
      "Orientador: Ivanovitch Medeiros Dantas da Silva  \n",
      "Resumo: A avaliação é um instrumento importante para corrigir falhas e promover acertos em processos de aprendizagem...  \n",
      "Palavras-chave: ('Learning analytics', 'Ciência de dados em grafos', 'Grafos', 'Avaliação online', 'Machine learning', 'eXplainable artificial intelligence')  \n",
      "ODS: 4  \n",
      "\n",
      "Título: Um algoritmo anticolisão para RFID de larga escala em ambientes ruidosos (2020)  \n",
      "Autor: Israel Eduardo de Barros Filho (Doutorado)  \n",
      "Orientador: Ivanovitch Medeiros Dantas da Silva  \n",
      "Resumo: A Internet das Coisas Industrial (IIoT) é frequentemente apresentada como um conceito que está mudando significativamente o cenário tecnológico das indústrias...  \n",
      "Palavras-chave: ('IoT industrial', 'GSPN', 'RFID', 'Desempenho', 'Confiabilidade', 'Modelagem de erro')  \n",
      "ODS: 9  \n"
     ]
    }
   ],
   "source": [
    "print(answer)"
   ]
  },
  {
   "cell_type": "code",
   "execution_count": 27,
   "metadata": {},
   "outputs": [
    {
     "name": "stdout",
     "output_type": "stream",
     "text": [
      "Input cost: $0.000003\n",
      "Output cost: $0.000387\n"
     ]
    }
   ],
   "source": [
    "get_cost(query, answer)"
   ]
  },
  {
   "cell_type": "markdown",
   "metadata": {},
   "source": [
    "# Defense Year"
   ]
  },
  {
   "cell_type": "markdown",
   "metadata": {},
   "source": [
    "## Q1"
   ]
  },
  {
   "cell_type": "code",
   "execution_count": 28,
   "metadata": {},
   "outputs": [],
   "source": [
    "query = \"Me retorne trabalhos acadêmicos defendidos em 2021\"\n",
    "\n",
    "answer = rag_chain_with_source.invoke({\"prompt\": query})[\"answer\"]"
   ]
  },
  {
   "cell_type": "code",
   "execution_count": 29,
   "metadata": {},
   "outputs": [
    {
     "name": "stdout",
     "output_type": "stream",
     "text": [
      "query=' ' filter=Comparison(comparator=<Comparator.EQ: 'eq'>, attribute='defense_date_year', value=2021) limit=None\n"
     ]
    }
   ],
   "source": [
    "get_query_constructor(query)"
   ]
  },
  {
   "cell_type": "code",
   "execution_count": 30,
   "metadata": {},
   "outputs": [
    {
     "name": "stdout",
     "output_type": "stream",
     "text": [
      "Título: Um algoritmo online e evolutivo para compressão automática de dados em cenários de IoT (2021)  \n",
      "Autor: Gabriel Lucas Albuquerque Maia Signoretti (Mestrado)  \n",
      "Orientador: Ivanovitch Medeiros Dantas da Silva  \n",
      "Resumo: Com o avanço e adoção em massa de soluções no campo de Internet das Coisas (IoT) e cidades conectadas, o número de dispositivos e sensores conectados à rede tende a crescer exponencialmente. Nesse cenário, a transmissão e armazenamento do crescente volume de dados trazem novos desafios. Quando dispositivos transmitem dados potencialmente irrelevantes ou redundantes, há um maior gasto de energia e processamento, além do uso desnecessário do canal de comunicação. Dessa forma, soluções de compressão de dados localmente nos próprios dispositivos de IoT se tornam cada vez mais atrativas, possibilitando a eliminação de amostras que teriam pouca ou nenhuma contribuição para a aplicação, de forma a reduzir significativamente o volume de dados necessários para representar as informações. No entanto, tais dispositivos presentes hoje no mercado têm sérias limitações de armazenamento e poder de processamento. A fim de circundar tais limitações, surge o campo de TinyML, que busca maneiras de implementar modelos de aprendizado de máquina em dispositivos de baixa potência. Dado esse contexto, um dos setores que mais pode se beneficiar dessas novas tecnologias é a indústria automobilística, pois atualmente todos os carros produzidos devem ser instrumentados com uma série de sensores. Dessa forma, ao conectar um dispositivo inteligente no veículo, é possível fazer um processamento local dos dados e transmiti-los para um servidor remoto posteriormente. Nesse contexto, o presente trabalho propõe o desenvolvimento de um novo algoritmo de compressão de dados online, não supervisionado, e automaticamente adaptável para aplicações de IoT. A abordagem proposta é chamada de Tiny Anomaly Compressor (TAC) e é baseada na excentricidade de dados e não requer modelos matemáticos previamente estabelecidos ou quaisquer suposições sobre a distribuição de dados. Para testar a eficácia da solução e validá-la foram realizados dois testes com diferentes objetivos. Primeiramente foi desenvolvida uma análise comparativa em dois conjuntos de dados do mundo real com dois outros algoritmos da literatura, o Swing Door Trending (SDT) e o Discrete Cosine Transform (DCT). Por fim, a proposta foi embarcada em um dispositivo IoT baseado em um Arduino e conectado a um carro com o propósito de verificar o impacto do algoritmo no tempo de processamento das operações primárias do sistema. Os resultados obtidos mostram ser possível alcançar altas taxas de compressão sem impactos significativos no erro gerado e no processamento do sistema.  \n",
      "Palavras-chave: ('Compressão de dados online', 'IoT', 'Veículos inteligentes', 'TinyML', 'Aprendizado de máquina', 'Excentricidade de dados')  \n",
      "ODS: 9  \n",
      "\n",
      "Título: Analytical speedup modeling for parallel applications with variable memory access delay in symmetric architectures (2021)  \n",
      "Autor: Alex Fabiano de Araújo Furtunato (Doutorado)  \n",
      "Orientador: Samuel Xavier de Souza  \n",
      "Resumo: Vários modelos analíticos criados desde o trabalho pioneiro de Amdahl exploraram aspectos tais como variação no tamanho do problema, tamanho da memória, sobrecarga de comunicação e sobrecarga de sincronização. Contudo, atrasos no acesso à memória são considerados constantes. Esses atrasos podem variar, por exemplo, de acordo com o número de núcleos usados, a relação entre as frequências do processador e da memória e o tamanho do problema. Dado os diferentes tamanhos de problemas e o grande número de configurações possíveis de frequência operacional e número de núcleos que as arquiteturas atuais podem oferecer, modelos de speedup adequados para descrever tais variações entre essas configurações são bastante desejáveis para decisões de escalonamento offline ou online. Esta tese apresenta um novo modelo analítico de speedup que considera variações no atraso médio de acesso à memória para descrever o efeito limitador da barreira de memória em aplicações paralelas em arquiteturas homogêneas de memória compartilhada. Os resultados experimentais indicam que a modelagem proposta captura bem o comportamento da aplicação. A proposta apresentada nesse trabalho mostra que incorporar parâmetros que refletem as características intrínsecas das aplicações tem vantagens sobre modelos estatísticos como os baseados em aprendizagem de máquina. Os experimentos também mostram que a modelagem de aprendizagem de máquina convencional pode precisar de uma ordem de magnitude a mais de medições para atingir o mesmo nível de acurácia em comparação com o modelo proposto.  \n",
      "Palavras-chave: ('Analytical modeling', 'Speedup modeling', 'Parallel systems', 'Data access delay', 'Speedup', 'Memory wall')  \n",
      "ODS: 9  \n",
      "\n",
      "Título: Holographic projection with deep learning for microparticles detection from water samples (2021)  \n",
      "Autor: Andouglas Gonçalves da Silva Júnior (Doutorado)  \n",
      "Orientador: Luiz Marcos Garcia Gonçalves  \n",
      "Resumo: Esta tese propõe um sistema holográfico completo para ser aplicado em pesquisa científica e em monitoramento, que é capaz de detectar micropartículas a partir da projeção holográfica de amostras de água, utilizando uma abordagem de deep learning. O sistema proposto nesta tese utiliza técnicas de holografia digital para adquirir hologramas dessas partículas (um dispositivo foi construído para isso), reconstruí-las numericamente obtendo informações de fase e intensidade, e classificá-las usando modelos de aprendizado de máquina. Além disso, desenvolvemos um aplicativo na web capaz de realizar todas as etapas da reconstrução do holograma e do processo de classificação utilizando-se dos modelos treinados, que também está disponível. A necessidade de estudos sobre partículas que são invisíveis a olho nu e que podem ser perigosas para a saúde dos seres vivos é um tema cada vez mais importante de pesquisa e há muitas preocupações a respeito. Um exemplo são os diversos tipos de microplásticos encontrados em grande escala em diferentes partes do planeta, até mesmo dentro do corpo humano. Outra partícula que pode ajudar a identificar microplásticos e que pode ser usada para calcular bioindicadores de qualidade da água são as diatomáceas. A detecção de microplásticos e diatomáceas está sujeita a estudos difíceis devido ao seu tamanho, na ordem do micrômetro.  \n",
      "Palavras-chave: ('Holografia', 'Aprendizado profundo', 'Diatomáceas', 'Microplásticos')  \n",
      "ODS: 6  \n",
      "\n",
      "Título: A parallel software-defined ultra-low-power receiver for a satellite message forwarding system (2021)  \n",
      "Autor: Raffael Sadite Cordoville Gomes de Lima (Mestrado)  \n",
      "Orientador: Samuel Xavier de Souza  \n",
      "Resumo: Os nanossatélites se tornaram a solução padrão para a maioria dos sistemas espaciais que operam em órbita terrestre baixa (LEO). No entanto, esta categoria de satélite impõe fortes restrições ao consumo de energia de seus subsistemas devido ao pequeno tamanho de seus painéis solares. Este trabalho apresenta um receptor Phase Shift Keying (PSK) multiusuário definido por software paralelo para uma carga útil de nanosatélite que servirá o Global Open coLlecting Data System (GOLDS), um sistema de armazenamento e encaminhamento de mensagens. Para isso, escolhemos o GAP8, um microprocessador RISC-V multi-core. Utilizamos uma abordagem paralela e a escala dinâmica de tensão e frequência (DVFS) para implementar processamento de sinal complexo garantindo baixo consumo de energia e atendendo às condições de operação em tempo real. Os sinais de entrada do receptor são sinais de rajada ±π/3−PSK codificados em 400 bps de plataformas terrestres, e o canal de comunicação foi modelado como AWGN com um desvanecimento plano independente por sinal PSK. Um modelo de referência MATLAB foi usado para validação funcional da implementação proposta. Até 12 sinais podem ser decodificados simultaneamente, exigindo um consumo máximo de potência de 41 mW. O uso de DVFS proporcionou uma economia máxima de 43% na potência dissipada e 12% no consumo de energia.  \n",
      "Palavras-chave: ('Multi-user receiver', 'Message storage and forwarding system', 'Ultra-low power', 'Multi-core architecture', 'Parallel processing')  \n",
      "ODS: 7  \n"
     ]
    }
   ],
   "source": [
    "print(answer)"
   ]
  },
  {
   "cell_type": "code",
   "execution_count": 31,
   "metadata": {},
   "outputs": [
    {
     "name": "stdout",
     "output_type": "stream",
     "text": [
      "Input cost: $0.000002\n",
      "Output cost: $0.001034\n"
     ]
    }
   ],
   "source": [
    "get_cost(query, answer)"
   ]
  },
  {
   "cell_type": "markdown",
   "metadata": {},
   "source": [
    "## Q2"
   ]
  },
  {
   "cell_type": "code",
   "execution_count": 32,
   "metadata": {},
   "outputs": [],
   "source": [
    "query = \"Me retorne 2 trabalhos acadêmicos de mestrado defendidos entre 2020 e 2023\"\n",
    "\n",
    "answer = rag_chain_with_source.invoke({\"prompt\": query})[\"answer\"]"
   ]
  },
  {
   "cell_type": "code",
   "execution_count": 33,
   "metadata": {},
   "outputs": [
    {
     "name": "stdout",
     "output_type": "stream",
     "text": [
      "query=' ' filter=Operation(operator=<Operator.AND: 'and'>, arguments=[Comparison(comparator=<Comparator.EQ: 'eq'>, attribute='category', value='MSc'), Comparison(comparator=<Comparator.GTE: 'gte'>, attribute='defense_date_year', value=2020), Comparison(comparator=<Comparator.LTE: 'lte'>, attribute='defense_date_year', value=2023)]) limit=None\n"
     ]
    }
   ],
   "source": [
    "get_query_constructor(query)"
   ]
  },
  {
   "cell_type": "code",
   "execution_count": 34,
   "metadata": {},
   "outputs": [
    {
     "name": "stdout",
     "output_type": "stream",
     "text": [
      "Título: Dispositivos internos para coleta automática de dados de material particulado no ar com aplicação na prevenção e mitigação de Covid-19 e outras endemias de síndrome respiratória aguda grave (2022)  \n",
      "Autor: Arthur Andrade Bezerra (Mestrado)  \n",
      "Orientador: Luiz Marcos Garcia Gonçalves  \n",
      "Resumo: Este trabalho propõe o desenvolvimento, calibração e validação de um dispositivo capaz de capturar ativamente dados relacionados à aferição de qualidade do ar para uma futura prevenção e comparação com índices de dados pandêmicos/endêmicos por localização utilizando sensores PM2.5, temperatura e umidade, juntamente com um microcontrolador capaz de enviar todas as informações necessárias para um banco de dados. Por ser um projeto que necessita de grande escala para que seja possível capturar índices de qualidade do ar na maior quantidade de pontos possível visando obter dados com uma granularidade muito alta, o desenvolvimento está sendo pensado sempre visualizando o custo-benefício dos componentes utilizados para que seja possível replicar, e também o desenvolvimento faz parte de um projeto maior, que deverá disponibilizar à comunidade uma plataforma completa, capaz de fornecer dados de qualidade do ar em tempo real.  \n",
      "Palavras-chave: ('Covid-19', 'Índice de qualidade do ar', 'Sistema embarcado', 'Matéria particulada')  \n",
      "ODS: 3  \n",
      "\n",
      "Título: Nova proposta de representação de genoma viral aplicada na classificação do Sars-Cov-2 com aprendizagem profunda (2022)  \n",
      "Autor: Luisa Christina de Souza (Mestrado)  \n",
      "Orientador: Marcelo Augusto Costa Fernandes  \n",
      "Resumo: Em dezembro de 2019, o primeiro caso de COVID-19 foi observado, e em julho de 2022, já haviam 540 milhões de casos confirmados. Devido a rápida propagação do vírus, esforços vêm sendo realizados pela comunidade científica para o desenvolvimento de técnicas de classificação viral do SARS-CoV-2. Neste trabalho, foi desenvolvida uma nova proposta de representação de sequências genéticas aplicada a amostras de seis vírus da família Coronaviridae, à qual pertence o vírus SARS-CoV-2, utilizando um conjunto de técnicas de Processamento de Sinais Genômicos. A assinatura viral obtida pelo método proposto foi aplicada a uma arquitetura de aprendizagem profunda para classificação viral, obtendo uma acurácia de 98,9%, 97,9% e 99,4% para os comprimentos de vetor 64, 128 e 256, respectivamente, e obtendo uma precisão de 99,97% para os vetores com tamanho 256, demonstrando que o mapeamento proposto alcançou desempenho satisfatório com baixos custos de memória computacional e tempo de processamento. Por fim, dada a taxa de mutação de vírus de RNA, novas variantes surgiram e com elas a possibilidade de aumento de casos. Utilizando a técnica desenvolvida, foi realizada uma análise da evolução de cinco variantes de preocupação do vírus SARS-CoV-2 em dois procedimentos de classificação viral. Os resultados obtidos auxiliam na compreensão da evolução do perfil genético das variantes analisadas.  \n",
      "Palavras-chave: ('Covid-19', 'Sars-Cov-2', 'Representação genômica', 'Processamento de sinais genômicos', 'Aprendizagem profunda')  \n",
      "ODS: 17  \n"
     ]
    }
   ],
   "source": [
    "print(answer)"
   ]
  },
  {
   "cell_type": "code",
   "execution_count": 35,
   "metadata": {},
   "outputs": [
    {
     "name": "stdout",
     "output_type": "stream",
     "text": [
      "Input cost: $0.000003\n",
      "Output cost: $0.000408\n"
     ]
    }
   ],
   "source": [
    "get_cost(query, answer)"
   ]
  },
  {
   "cell_type": "markdown",
   "metadata": {},
   "source": [
    "# ODS"
   ]
  },
  {
   "cell_type": "markdown",
   "metadata": {},
   "source": [
    "## Q1"
   ]
  },
  {
   "cell_type": "code",
   "execution_count": 36,
   "metadata": {},
   "outputs": [],
   "source": [
    "query = \"Me retorne trabalhos que foram classificados como ODS 2\"\n",
    "\n",
    "answer = rag_chain_with_source.invoke({\"prompt\": query})[\"answer\"]"
   ]
  },
  {
   "cell_type": "code",
   "execution_count": 37,
   "metadata": {},
   "outputs": [
    {
     "name": "stdout",
     "output_type": "stream",
     "text": [
      "query=' ' filter=Comparison(comparator=<Comparator.EQ: 'eq'>, attribute='ods', value=2) limit=None\n"
     ]
    }
   ],
   "source": [
    "get_query_constructor(query)"
   ]
  },
  {
   "cell_type": "code",
   "execution_count": 38,
   "metadata": {},
   "outputs": [
    {
     "name": "stdout",
     "output_type": "stream",
     "text": [
      "Título: Identificação de nematóides através de técnicas de processamento inteligentes de imagens (2002)  \n",
      "Autor: Carlos Alberto da Silva (Mestrado)  \n",
      "Orientador: Adrião Duarte Dória Neto  \n",
      "Resumo: O desenvolvimento de técnicas automáticas para a identificação da presença de namatóides em imagens capturadas através de câmeras acopladas em microscópios para análise e obtenção de métodos de controle destes microorganismos, acarretará em um enorme impacto financeiro considerando os prejuízos causados por esta praga à agricultura. O objetivo deste trabalho, consiste no desenvolvimento de um sistema inteligente com base nas técnicas de processamento digital de imagens e redes neurais artificiais para detectar a presença de nematóides em imagens digitais capturadas via microscópio com câmera acoplada. Os elementos básicos do sistema inteligente consiste de um módulo de pré-processamento da imagem seguido pela auto-segmentação e, por fim, de um módulo de identificação de nametóides. Técnicas como transformada KLT, auto-contraste, morfologia matemática, redes neurais artificiais, dentre outras, são objeto de estudo deste trabalho. O uso de imagens reais foi requisito fundamental para avaliação e validação das técnicas trabalhadas. No decorrer deste trabalho são descritas as etapas de aquisição, pré-processamento, segmentação e extração de características das imagens bem como apresenta-se as redes neurais artificiais utilizadas e o sistema desenvolvido encerrando-se com os experimentos e conclusões observadas.  \n",
      "Palavras-chave: ('Engenharia elétrica', 'Nematóides', 'Transformada KLT', 'Processamento digital de imagens', 'Auto-contraste', 'Redes neurais artificiais')  \n",
      "ODS: 2  \n",
      "\n",
      "Título: Análise da determinação da constante elétrica de materiais sólidos e líquidos usando parâmetros de transmissão na faixa de microondas (2018)  \n",
      "Autor: André Soffiatti (Doutorado)  \n",
      "Orientador: Laercio Martins de Mendonça  \n",
      "Resumo: Com o rápido crescimento da tecnologia, tornou-se necessário o desenvolvimento de dispositivos sensoriais para o controle e a automação de vários processos agrícolas, farmacêuticos e alimentícios, a fim de um melhor entendimento das propriedades dielétricas dos materiais e das técnicas de medição. Este trabalho apresenta uma investigação e construção de um sistema sensor eletromagnético baseado em antenas planares e não-planares que são utilizadas para avaliar impurezas em substâncias sólidas e liquidas de acordo com a qualidade de transmissão entre elas. Para isso, foi implementada uma configuração dedicada com testes em várias frequências para monitorar o comportamento da variação de transmissão entre as antenas utilizando o método do espaço livre. Também foi realizada análise da transmissão entre os sensores variando os ângulos de incidência de sinal transmitido e da distância. O sistema sensor proposto foi testado em várias frequências resultando em diferentes valores de sensibilidade. Os protótipos foram construídos e testados para analisar os efeitos dielétricos das impurezas nas substâncias líquidas de Epocler, NaCl e C2H4O2 e sólidas em medicamentos como comprimidos e cápsulas com diferentes dimensões e pesos. A metodologia usou uma técnica simples para calcular os parâmetros de espalhamentos [S] em sólidos e líquidos e com seu processamento obter as propriedades dielétricas dos materiais considerados. Além disso, um modelo matemático é apresentado para os parâmetros de transmissão relacionado com a constante dielétrica εr. Nos procedimentos experimentais, os parâmetros [S] são coletados em espaço livre pelo Vector Network Analyzer (VNA), usando antenas tipo corneta e também antenas planares com metamaterial. Os resultados teóricos e experimentais são validados através de coerências métricas obtidas.  \n",
      "Palavras-chave: ('Permissividade complexa', 'Caracterização de materiais', 'Método do espaço livre', 'Antenas de microfita', 'Sensor metamaterial')  \n",
      "ODS: 2  \n",
      "\n",
      "Título: Tomada de decisão em grupo e multi-atributos baseada na Lógica fuzzy intuicionista de Atanassov intervalarmente valorada (2016)  \n",
      "Autor: Ivanosca Andrade da Silva (Doutorado)  \n",
      "Orientador: Benjamin Rene Callejas Bedregal  \n",
      "Resumo: Lógica fuzzy surge em 1965 com o trabalho de Lotfi Zadeh que tem por objetivo tratar de forma rigorosa a incerteza inerente na definição de noções e propriedades imprecisas ou vagas presentes em diversas situações do cotidiano, como por exemplo, temperatura alta, pendente acentuada, etc. Para isto, Zadeh considerou um grau (um valor no intervalo [0,1]) com que um determinado elemento pertence a um conjunto ou satisfaz uma determinada propriedade. No entanto, algumas críticas a esta teoria foram feitas, principalmente por causa desta teoria lidar com incertezas usando valores exatos, o que motivou a vários pesquisadores (entre eles o próprio Zadeh) em 1975, e de forma independente, a estender esta teoria relaxando o conjunto onde os graus tomam seus valores. Uma destas extensões, a lógica fuzzy intuicionista de Atanassov intervalarmente valorada, proposta em 1989 por Atanassov e Gargov, que usa um par de subintervalos de [0,1], um deles representa o quanto, considerando alguma imprecisão, se acredita que o elemento satisfaz a propriedade enquanto o outro descreve o quanto se acredita que não satisfaz a propriedade. Este par de graus intervalares visam capturar a hesitação e imprecisão presente ao momento de se atribuir o grau com que o elemento satisfaz a propriedade. A lógica fuzzy e suas diversas extensões, tem sido aplicada com sucesso nas mais variadas áreas, como por exemplo, medicina, engenharia, agricultura, econômia e em administração. Em particular, uma das principais aplicações de lógica fuzzy em administração diz respeito ao apoio na tomada de decisão. Um problema típico de tomada de decisão consiste em escolher a melhor alternativa entre um conjunto delas ou em ordenar as alternativas de melhor a pior, considerando alguns critérios a serem satisfeitos assi como a opinião de um ou mais especialistas. Os métodos fuzzy para problemas de tomada de decisão usam graus fuzzy (ou de suas extensões) para expressar o quanto uma alternativa satisfaz um determinado atributo ou critério, e alguma forma de agregar a opinião de todos os especialistas, para chegar no final a uma pontuação (que pode ser um valor numérico ou não) que permita decidir qual é a potencialmente melhor alternativa.Nesta tese são apresentados avanços teóricos significativos na teoria dos conjuntos fuzzy intuicionistas de Atanassov intervalarmente valorados assim como, são proposto dois novos métodos de tomada de decisão, considerando múltiplos atributos (ou critérios) e um grupo de especialistas, aplicação desses métodos em problemas específicos e é realizada uma comparação com resultados obtidos com outros métodos de tomada de decisão. Por outro lado, um dos grandes problemas com os métodos ou processos de tomada de decisão é que, quando aplicado em problemas reais, em geral, não é possível determinar a qualidade da solução (ordenação das alternativas) obtida pelo método. De fato, diferentes métodos de tomada de decisão para um mesmo problema podem resultar em diferentes soluções. Nesta tese, se propõe considerar os resultados obtidos por diferentes métodos (independente do tipo de extensão fuzzy usada e tipo de problema de tomada de decisão) como meras evidências que podem ser usadas por um outro método capaz de determinar uma ordenação das alternativas que de alguma maneira represente a fusão ou consenso desses ordenamentos de alternativas.  \n",
      "Palavras-chave: ('Lógica fuzzy', 'Tomada de decisão', 'Lógica fuzzy intuicionista de Atanassov intervalarmente valorada', 'Ordens admissíveis', 'Médias ponderadas ordenadas', 'Representação intervalar', 'Fusão de ranking')  \n",
      "ODS: 2  \n"
     ]
    }
   ],
   "source": [
    "print(answer)"
   ]
  },
  {
   "cell_type": "code",
   "execution_count": 39,
   "metadata": {},
   "outputs": [
    {
     "name": "stdout",
     "output_type": "stream",
     "text": [
      "Input cost: $0.000002\n",
      "Output cost: $0.000984\n"
     ]
    }
   ],
   "source": [
    "get_cost(query, answer)"
   ]
  },
  {
   "cell_type": "markdown",
   "metadata": {},
   "source": [
    "# Multi Query"
   ]
  },
  {
   "cell_type": "markdown",
   "metadata": {},
   "source": [
    "## Q1"
   ]
  },
  {
   "cell_type": "code",
   "execution_count": 55,
   "metadata": {},
   "outputs": [],
   "source": [
    "query = \"Me retorne 3 trabalhos de mestrado que foram classificados como ODS 2\"\n",
    "\n",
    "answer = rag_chain_with_source.invoke({\"prompt\": query})[\"answer\"]"
   ]
  },
  {
   "cell_type": "code",
   "execution_count": 56,
   "metadata": {},
   "outputs": [
    {
     "name": "stdout",
     "output_type": "stream",
     "text": [
      "query=' ' filter=Operation(operator=<Operator.AND: 'and'>, arguments=[Comparison(comparator=<Comparator.EQ: 'eq'>, attribute='category', value='MSc'), Comparison(comparator=<Comparator.EQ: 'eq'>, attribute='ods', value=2)]) limit=None\n"
     ]
    }
   ],
   "source": [
    "get_query_constructor(query)"
   ]
  },
  {
   "cell_type": "code",
   "execution_count": 57,
   "metadata": {},
   "outputs": [
    {
     "name": "stdout",
     "output_type": "stream",
     "text": [
      "Título: Identificação de nematóides através de técnicas de processamento inteligentes de imagens (2002)  \n",
      "Autor: Carlos Alberto da Silva (Mestrado)  \n",
      "Orientador: Adrião Duarte Dória Neto  \n",
      "Resumo: O desenvolvimento de técnicas automáticas para a identificação da presença de namatóides em imagens capturadas através de câmeras acopladas em microscópios para análise e obtenção de métodos de controle destes microorganismos, acarretará em um enorme impacto financeiro considerando os prejuízos causados por esta praga à agricultura. O objetivo deste trabalho, consiste no desenvolvimento de um sistema inteligente com base nas técnicas de processamento digital de imagens e redes neurais artificiais para detectar a presença de nematóides em imagens digitais capturadas via microscópio com câmera acoplada. Os elementos básicos do sistema inteligente consiste de um módulo de pré-processamento da imagem seguido pela auto-segmentação e, por fim, de um módulo de identificação de nametóides. Técnicas como transformada KLT, auto-contraste, morfologia matemática, redes neurais artificiais, dentre outras, são objeto de estudo deste trabalho. O uso de imagens reais foi requisito fundamental para avaliação e validação das técnicas trabalhadas. No decorrer deste trabalho são descritas as etapas de aquisição, pré-processamento, segmentação e extração de características das imagens bem como apresenta-se as redes neurais artificiais utilizadas e o sistema desenvolvido encerrando-se com os experimentos e conclusões observadas.  \n",
      "Palavras-chave: Engenharia elétrica, Nematóides, Transformada KLT, Processamento digital de imagens, Auto-contraste, Redes neurais artificiais  \n",
      "ODS: 2  \n"
     ]
    }
   ],
   "source": [
    "print(answer)"
   ]
  },
  {
   "cell_type": "code",
   "execution_count": 58,
   "metadata": {},
   "outputs": [
    {
     "name": "stdout",
     "output_type": "stream",
     "text": [
      "Input cost: $0.000003\n",
      "Output cost: $0.000207\n"
     ]
    }
   ],
   "source": [
    "get_cost(query, answer)"
   ]
  },
  {
   "cell_type": "markdown",
   "metadata": {},
   "source": [
    "## Q2"
   ]
  },
  {
   "cell_type": "code",
   "execution_count": 59,
   "metadata": {},
   "outputs": [],
   "source": [
    "query = \"Me retorne 3 trabalhos de doutorado que foram classificados como ODS 2\"\n",
    "\n",
    "answer = rag_chain_with_source.invoke({\"prompt\": query})[\"answer\"]"
   ]
  },
  {
   "cell_type": "code",
   "execution_count": 60,
   "metadata": {},
   "outputs": [
    {
     "name": "stdout",
     "output_type": "stream",
     "text": [
      "query=' ' filter=Operation(operator=<Operator.AND: 'and'>, arguments=[Comparison(comparator=<Comparator.EQ: 'eq'>, attribute='category', value='PhD'), Comparison(comparator=<Comparator.EQ: 'eq'>, attribute='ods', value=2)]) limit=None\n"
     ]
    }
   ],
   "source": [
    "get_query_constructor(query)"
   ]
  },
  {
   "cell_type": "code",
   "execution_count": 61,
   "metadata": {},
   "outputs": [
    {
     "name": "stdout",
     "output_type": "stream",
     "text": [
      "Título: Análise da determinação da constante elétrica de materiais sólidos e líquidos usando parâmetros de transmissão na faixa de microondas (2018)\n",
      "Autor: André Soffiatti (Doutorado)\n",
      "Orientador: Laercio Martins de Mendonça\n",
      "Resumo: Com o rápido crescimento da tecnologia, tornou-se necessário o desenvolvimento de dispositivos sensoriais para o controle e a automação de vários processos agrícolas, farmacêuticos e alimentícios, a fim de um melhor entendimento das propriedades dielétricas dos materiais e das técnicas de medição. Este trabalho apresenta uma investigação e construção de um sistema sensor eletromagnético baseado em antenas planares e não-planares que são utilizadas para avaliar impurezas em substâncias sólidas e líquidas de acordo com a qualidade de transmissão entre elas. Para isso, foi implementada uma configuração dedicada com testes em várias frequências para monitorar o comportamento da variação de transmissão entre as antenas utilizando o método do espaço livre. Também foi realizada análise da transmissão entre os sensores variando os ângulos de incidência de sinal transmitido e da distância. O sistema sensor proposto foi testado em várias frequências resultando em diferentes valores de sensibilidade. Os protótipos foram construídos e testados para analisar os efeitos dielétricos das impurezas nas substâncias líquidas de Epocler, NaCl e C2H4O2 e sólidas em medicamentos como comprimidos e cápsulas com diferentes dimensões e pesos. A metodologia usou uma técnica simples para calcular os parâmetros de espalhamentos [S] em sólidos e líquidos e com seu processamento obter as propriedades dielétricas dos materiais considerados. Além disso, um modelo matemático é apresentado para os parâmetros de transmissão relacionado com a constante dielétrica εr. Nos procedimentos experimentais, os parâmetros [S] são coletados em espaço livre pelo Vector Network Analyzer (VNA), usando antenas tipo corneta e também antenas planares com metamaterial. Os resultados teóricos e experimentais são validados através de coerências métricas obtidas.\n",
      "Palavras-chave: ('Permissividade complexa', 'Caracterização de materiais', 'Método do espaço livre', 'Antenas de microfita', 'Sensor metamaterial')\n",
      "ODS: 2\n",
      "\n",
      "Título: Tomada de decisão em grupo e multi-atributos baseada na Lógica fuzzy intuicionista de Atanassov intervalarmente valorada (2016)\n",
      "Autor: Ivanosca Andrade da Silva (Doutorado)\n",
      "Orientador: Benjamin Rene Callejas Bedregal\n",
      "Resumo: Lógica fuzzy surge em 1965 com o trabalho de Lotfi Zadeh que tem por objetivo tratar de forma rigorosa a incerteza inerente na definição de noções e propriedades imprecisas ou vagas presentes em diversas situações do cotidiano, como por exemplo, temperatura alta, pendente acentuada, etc. Para isto, Zadeh considerou um grau (um valor no intervalo [0,1]) com que um determinado elemento pertence a um conjunto ou satisfaz uma determinada propriedade. No entanto, algumas críticas a esta teoria foram feitas, principalmente por causa desta teoria lidar com incertezas usando valores exatos, o que motivou a vários pesquisadores (entre eles o próprio Zadeh) em 1975, e de forma independente, a estender esta teoria relaxando o conjunto onde os graus tomam seus valores. Uma destas extensões, a lógica fuzzy intuicionista de Atanassov intervalarmente valorada, proposta em 1989 por Atanassov e Gargov, que usa um par de subintervalos de [0,1], um deles representa o quanto, considerando alguma imprecisão, se acredita que o elemento satisfaz a propriedade enquanto o outro descreve o quanto se acredita que não satisfaz a propriedade. Este par de graus intervalares visam capturar a hesitação e imprecisão presente ao momento de se atribuir o grau com que o elemento satisfaz a propriedade. A lógica fuzzy e suas diversas extensões, tem sido aplicada com sucesso nas mais variadas áreas, como por exemplo, medicina, engenharia, agricultura, econômia e em administração. Em particular, uma das principais aplicações de lógica fuzzy em administração diz respeito ao apoio na tomada de decisão. Um problema típico de tomada de decisão consiste em escolher a melhor alternativa entre um conjunto delas ou em ordenar as alternativas de melhor a pior, considerando alguns critérios a serem satisfeitos assim como a opinião de um ou mais especialistas. Os métodos fuzzy para problemas de tomada de decisão usam graus fuzzy (ou de suas extensões) para expressar o quanto uma alternativa satisfaz um determinado atributo ou critério, e alguma forma de agregar a opinião de todos os especialistas, para chegar no final a uma pontuação (que pode ser um valor numérico ou não) que permita decidir qual é a potencialmente melhor alternativa.Nesta tese são apresentados avanços teóricos significativos na teoria dos conjuntos fuzzy intuicionistas de Atanassov intervalarmente valorados assim como, são proposto dois novos métodos de tomada de decisão, considerando múltiplos atributos (ou critérios) e um grupo de especialistas, aplicação desses métodos em problemas específicos e é realizada uma comparação com resultados obtidos com outros métodos de tomada de decisão. Por outro lado, um dos grandes problemas com os métodos ou processos de tomada de decisão é que, quando aplicado em problemas reais, em geral, não é possível determinar a qualidade da solução (ordenação das alternativas) obtida pelo método. De fato, diferentes métodos de tomada de decisão para um mesmo problema podem resultar em diferentes soluções. Nesta tese, se propõe considerar os resultados obtidos por diferentes métodos (independente do tipo de extensão fuzzy usada e tipo de problema de tomada de decisão) como meras evidências que podem ser usadas por um outro método capaz de determinar uma ordenação das alternativas que de alguma maneira represente a fusão ou consenso desses ordenamentos de alternativas.\n",
      "Palavras-chave: ('Lógica fuzzy', 'Tomada de decisão', 'Lógica fuzzy intuicionista de Atanassov intervalarmente valorada', 'Ordens admissíveis', 'Médias ponderadas ordenadas', 'Representação intervalar', 'Fusão de ranking')\n",
      "ODS: 2\n",
      "\n",
      "Infelizmente, não encontrei um terceiro trabalho de doutorado classificado como ODS 2.\n"
     ]
    }
   ],
   "source": [
    "print(answer)"
   ]
  },
  {
   "cell_type": "code",
   "execution_count": 62,
   "metadata": {},
   "outputs": [
    {
     "name": "stdout",
     "output_type": "stream",
     "text": [
      "Input cost: $0.000003\n",
      "Output cost: $0.000778\n"
     ]
    }
   ],
   "source": [
    "get_cost(query, answer)"
   ]
  },
  {
   "cell_type": "markdown",
   "metadata": {},
   "source": [
    "## Q3"
   ]
  },
  {
   "cell_type": "code",
   "execution_count": 63,
   "metadata": {},
   "outputs": [],
   "source": [
    "query = \"Me retorne 2 trabalhos de mestrado entre 2020 e 2023 foram classificados como ODS 7\"\n",
    "\n",
    "answer = rag_chain_with_source.invoke({\"prompt\": query})[\"answer\"]"
   ]
  },
  {
   "cell_type": "code",
   "execution_count": 64,
   "metadata": {},
   "outputs": [
    {
     "name": "stdout",
     "output_type": "stream",
     "text": [
      "query=' ' filter=Operation(operator=<Operator.AND: 'and'>, arguments=[Comparison(comparator=<Comparator.EQ: 'eq'>, attribute='category', value='MSc'), Comparison(comparator=<Comparator.GTE: 'gte'>, attribute='defense_date_year', value=2020), Comparison(comparator=<Comparator.LTE: 'lte'>, attribute='defense_date_year', value=2023), Comparison(comparator=<Comparator.EQ: 'eq'>, attribute='ods', value=7)]) limit=None\n"
     ]
    }
   ],
   "source": [
    "get_query_constructor(query)"
   ]
  },
  {
   "cell_type": "code",
   "execution_count": 65,
   "metadata": {},
   "outputs": [
    {
     "name": "stdout",
     "output_type": "stream",
     "text": [
      "Título: Moduladores Sigma-Delta passa-banda programáveis usando filtro N-Path (2023)  \n",
      "Autor: Evelyn Cristina de Oliveira Lima (Mestrado)  \n",
      "Orientador: Diomadson Rodrigues Belfort  \n",
      "Resumo: No Rádio Definido por Software (SDR) a maioria das funções analógicas, como a conversão descendente e a seleção de canal são movidas para o domínio digital. Com esses recursos, um SDR pode ser facilmente programado e adaptado a novos padrões. No entanto, sua implementação usando um conversor analógico-digital (ADC) de taxa de Nyquist tem sido desafiadora e com consumo muito elevado, o que o torna impróprio para aplicativos móveis. SDM (Modulador Sigma-Delta) usando ressonadores LC são bem adequados para essa finalidade, pois podem converter uma banda estreita em torno de uma frequência central de radiofrequência (RF). Na literatura, o SDM baseado em LC de alta ordem usa os nós entre os tanques LC para feedforward ou coeficientes de realimentação, de modo a obter a função de transferência de ruído desejada (NTF). Esses nós são geralmente uma fonte adicional de ruído, não linearidade e consumo de energia afetando o desempenho geral do SDM. Neste projeto, tem-se por objetivo explorar as funcionalidades dos filtros N-Path para implementar um Modulador Sigma-Delta passa banda programável que atenda a vários padrões de comunicação. Fez-se, portanto, necessário uma pesquisa bibliográfica e tecnológica sobre o estado da arte de filtro N-path, Moduladores Sigma-Delta de tempo contínuo e tempo discreto.Deu-se também o desenvolvimento de modelos de alto nível para diferentes categorias de topologias de Moduladores Sigma-Delta implementados com filtros LC e de tempo discreto para servir de modelos de comparação com a metodologia de projeto da topologia utilizando o filtro N-path proposta neste trabalho. Foi desenvolvido um modelo de alto nível do filtro N-Path e atualmente o trabalho está na etapa de integração do filtro N-path e SDM. Os resultados obtidos a partir da implementação do SDM com filtros LC mostram que o modulador possui uma boa concordância com seu equivalente DT. Em experimentos inicias, a implementação do SDM com circuito RLC equivalente ao filtro N-path mostrou-se promissora ao apresentar resultados semelhantes aos obtidos com a topologia de tempo discreto.  \n",
      "Palavras-chave: ('Conversor analógico-digital', 'Modulador Sigma-Delta', 'Filtro N-Path')  \n",
      "ODS: 7  \n",
      "\n",
      "Título: A parallel software-defined ultra-low-power receiver for a satellite message forwarding system (2021)  \n",
      "Autor: Raffael Sadite Cordoville Gomes de Lima (Mestrado)  \n",
      "Orientador: Samuel Xavier de Souza  \n",
      "Resumo: Os nanossatélites se tornaram a solução padrão para a maioria dos sistemas espaciais que operam em órbita terrestre baixa (LEO). No entanto, esta categoria de satélite impõe fortes restrições ao consumo de energia de seus subsistemas devido ao pequeno tamanho de seus painéis solares. Este trabalho apresenta um receptor Phase Shift Keying (PSK) multiusuário definido por software paralelo para uma carga útil de nanosatélite que servirá o Global Open coLlecting Data System (GOLDS), um sistema de armazenamento e encaminhamento de mensagens. Para isso, escolhemos o GAP8, um microprocessador RISC-V multi-core. Utilizamos uma abordagem paralela e a escala dinâmica de tensão e frequência (DVFS) para implementar processamento de sinal complexo garantindo baixo consumo de energia e atendendo às condições de operação em tempo real. Os sinais de entrada do receptor são sinais de rajada ±π/3−PSK codificados em 400 bps de plataformas terrestres, e o canal de comunicação foi modelado como AWGN com um desvanecimento plano independente por sinal PSK. Um modelo de referência MATLAB foi usado para validação funcional da implementação proposta. Até 12 sinais podem ser decodificados simultaneamente, exigindo um consumo máximo de potência de 41 mW. O uso de DVFS proporcionou uma economia máxima de 43% na potência dissipada e 12% no consumo de energia.  \n",
      "Palavras-chave: ('Multi-user receiver', 'Message storage and forwarding system', 'Ultra-low power', 'Multi-core architecture', 'Parallel processing')  \n",
      "ODS: 7  \n"
     ]
    }
   ],
   "source": [
    "print(answer)"
   ]
  },
  {
   "cell_type": "code",
   "execution_count": 66,
   "metadata": {},
   "outputs": [
    {
     "name": "stdout",
     "output_type": "stream",
     "text": [
      "Input cost: $0.000004\n",
      "Output cost: $0.000546\n"
     ]
    }
   ],
   "source": [
    "get_cost(query, answer)"
   ]
  },
  {
   "cell_type": "markdown",
   "metadata": {},
   "source": [
    "# Complex Query"
   ]
  },
  {
   "cell_type": "markdown",
   "metadata": {},
   "source": [
    "## Q1"
   ]
  },
  {
   "cell_type": "code",
   "execution_count": 79,
   "metadata": {},
   "outputs": [],
   "source": [
    "query = \"Gostaria de desenvolver um projeto na area de Inteligência Artificial, quais trabalhos de mestrado você me recomenda?\"\n",
    "\n",
    "answer = rag_chain_with_source.invoke({\"prompt\": query})[\"answer\"]"
   ]
  },
  {
   "cell_type": "code",
   "execution_count": 80,
   "metadata": {},
   "outputs": [
    {
     "name": "stdout",
     "output_type": "stream",
     "text": [
      "query='Inteligência Artificial' filter=Comparison(comparator=<Comparator.EQ: 'eq'>, attribute='category', value='MSc') limit=None\n"
     ]
    }
   ],
   "source": [
    "get_query_constructor(query)"
   ]
  },
  {
   "cell_type": "code",
   "execution_count": 81,
   "metadata": {},
   "outputs": [
    {
     "name": "stdout",
     "output_type": "stream",
     "text": [
      "Título: Implementação e aplicação de algoritmos de aprendizado em um sistema neuro-simbólico (2017)  \n",
      "Autor: André Quintiliano Bezerra Silva (Mestrado)  \n",
      "Orientador: André Laurindo Maitelli  \n",
      "Resumo: Um dos principais objetivos da inteligência artificial é a criação de agentes inspirados na inteligência humana. Isso vem sendo pesquisado utilizando várias abordagens, e entre as mais promissoras para o aprendizado de máquinas estão os sistemas simbólicos baseados na lógica e as redes neurais artificiais. Até a última década, ambas as abordagens progrediam de forma independente, mas os progressos obtidos em ambas as áreas fizeram com que os pesquisadores começassem a investigar maneiras de integrar as duas técnicas. Diversos modelos que proporcionam a integração híbrida ou integrada desses métodos inteligentes surgiram na década de 90 e continuam sendo utilizadas e melhoradas até hoje. Esse trabalho tem como objetivo principal a implementação e uso do algoritmo de conversão neuro-simbólica do sistema híbrido Knowledge-Based Artificial Neural Networks (KBANN). O sistema possui a capacidade de mapear um domínio teórico específico de regras (se-então) em uma rede neural e refinar a rede utilizando técnicas de aprendizado. Além disso, como o algoritmo criado por Towell et al. (1990) não possui a capacidade de adquirir novos conhecimentos sem distorcer o que já foi aprendido, utilizou-se o algoritmo TopGen (Optiz e Shavlik, 1995) para adicionar tal capacidade a rede. O trabalho utilizou um jogo de tabuleiro para realizar experimentos devido a quantidade e o conhecimento existente sobre as regras do jogo. O sistema implementado obteve resultados interessantes, mesmo com a pertubação do domínio inicial de regras (com a exclusão parcial), obtendo uma taxa de acerto próxima a 100%. Portanto, a partir dos resultados obtidos foi possível concluir que o sistema híbrido é capaz de se sobrepor a situações adversas a qual foi submetido nessa pesquisa.  \n",
      "Palavras-chave: ('Neuro-simbólico', 'Sistemas híbrido', 'Rede neural')  \n",
      "ODS: 17  \n",
      "\n",
      "Título: Controle inteligente de um robô móvel omnidirecional com tomada de decisão utilizando aprendizagem por reforço (2021)  \n",
      "Autor: Victor Ramon Firmo Moreira (Mestrado)  \n",
      "Orientador: Wallace Moreira Bessa  \n",
      "Resumo: A evolução dos sistemas robóticos se tornou evidente no decorrer do tempo. Tanto pelos avanços em fabricação mecânica quanto pelos novos algoritmos utilizados, os robôs móveis têm se tornado cada vez mais independentes em suas ações. No que tange às estratégias de aprendizagem de máquina, uma atenção especial vem sendo dada aos algoritmos de aprendizagem por reforço, em virtude de suas semelhanças com o processo de aprendizado biológico. Neste trabalho propõe-se o desenvolvimento de um agente autônomo, combinando estratégias de controle inteligente com algoritmos de tomada de decisão. Para a implementação da estratégia proposta, será utilizado o robô móvel omnidirecional Robotino. Foram realizadas simulações de atuação do robô que tem por objetivo a exploração espacial de um ambiente, sendo para isso aplicado um modelo matemático específico. Para o controle do sistema, a estratégia de Linearização por Realimentação foi combinada a um compensador baseado em Redes Neurais Artificiais para lidar com as incertezas, eventuais perturbações externas e compensar a dinâmica não modelada. O algoritmo epsilon-greedy, por sua vez, foi escolhido para capacitar o robô no processo de tomada de decisão. Os resultados da implementação experimental mostram que a estratégia de controle inteligente foi eficiente e o agente inteligente proposto foi capaz de explorar o ambiente de maneira efetiva, obtendo uma alta recompensa média.  \n",
      "Palavras-chave: ('Controle não linear', 'Linearização por realimentação', 'Redes neurais artificiais', 'e-greedy', 'Robotino®')  \n",
      "ODS: 16  \n",
      "\n",
      "Título: Sistema não-Intrusivo para Estimação da Direção do olhar utilizando redes neurais artificiais (2010)  \n",
      "Autor: Helton Maia Peixoto (Mestrado)  \n",
      "Orientador: Ana Maria Guimarães Guerreiro  \n",
      "Resumo: Os sentidos fundamentais do corpo humano são: visão, audição, tato, gustação(ou paladar) e olfato. Estes constituem as funções que propiciam o nosso relacionamento com o ambiente. A visão funciona como um receptor sensorial responsável pela captação de informações do mundo exterior que serão enviadas ao cérebro. O olhar reflete a sua atenção, intenção e interesse. Sendo assim, a estimação da direção do olhar, a partir de modelos computacionais, possibilita uma alternativa promissora para melhorar a capacidade de interação homem-máquina, inclusive dos portadores de deficiências motoras. O objetivo deste trabalho consiste em apresentar um sistema não-intrusivo que utiliza basicamente um computador pessoal e uma webcam de baixo custo que, quando aliados ao uso das técnicas de processamento digital de imagens, transformadas Wavelets e reconhecimento de padrões, com as redes neurais artificiais, resultam em um sistema completo que realiza desde a aquisição de imagens (passando pela detecção da face e rastreamento dos olhos) ate a estimação da direção do olhar. Os resultados apresentados mostram a viabilidade do sistema proposto assim como diversas vantagens em seu uso.  \n",
      "Palavras-chave: ('Estimação da direção do olhar', 'Processamento digital de imagens', 'Redes neurais artificiais', 'Estimation of gaze direction', 'Digital image processing', 'Artificial neural networks')  \n",
      "ODS: 8  \n",
      "\n",
      "Título: Análise de tradução homem-máquina utilizando mecanismos de atenção para sistemas baseados em SQL para indústria 4.0 (2020)  \n",
      "Autor: Silvan Ferreira da Silva Júnior (Mestrado)  \n",
      "Orientador: Allan de Medeiros Martins  \n",
      "Resumo: O uso de bancos de dados relacionais está cada vez mais presente na indústria. Aplicações em medicina, IoT e Indústria 4.0 são exemplos disso. Apesar da grande capacidade e eficiência no armazenamento e recuperação de dados, esse tipo de banco de dados requer conhecimentos técnicos em linguagens de consulta específicas para o acesso a essas informações, o que afasta esses tipos de aplicativos do público não especializado. Neste trabalho, propomos uma aplicação de modelos recentes de Deep Learning em processamento de linguagem natural que utiliza mecanismos de atenção para tradução da linguagem natural em inglês para SQL aplicada a um banco de dados que armazena dados de sensores, com foco no conceito de Indústria 4.0. Exemplos pareados de frases de linguagem natural foram gerados com sua consulta SQL correspondente para serem usados para treinamento e validação. O modelo foi agnóstico em relação ao esquema de banco de dados, de forma que só lida com as sequências de entrada e saída independentemente da estrutura do banco de dados. Os dados vêm de historiadores de processo típico usado nos cenários industriais. Ao treinar a rede neural profunda, foi obtido um modelo de linguagem com uma precisão de aproximadamente 92% no conjunto de validação.  \n",
      "Palavras-chave: ('NLP', 'Indústria', 'IoT', 'SQL', 'Deep Learning')  \n",
      "ODS: 9  \n"
     ]
    }
   ],
   "source": [
    "print(answer)"
   ]
  },
  {
   "cell_type": "markdown",
   "metadata": {},
   "source": [
    "## Q2"
   ]
  },
  {
   "cell_type": "code",
   "execution_count": 92,
   "metadata": {},
   "outputs": [],
   "source": [
    "query = \"Existe algum trabalho na base de dados que envolva blockchain?\"\n",
    "\n",
    "answer = rag_chain_with_source.invoke({\"prompt\": query})[\"answer\"]"
   ]
  },
  {
   "cell_type": "code",
   "execution_count": 93,
   "metadata": {},
   "outputs": [
    {
     "name": "stdout",
     "output_type": "stream",
     "text": [
      "query='blockchain' filter=None limit=None\n"
     ]
    }
   ],
   "source": [
    "get_query_constructor(query)"
   ]
  },
  {
   "cell_type": "code",
   "execution_count": 94,
   "metadata": {},
   "outputs": [
    {
     "name": "stdout",
     "output_type": "stream",
     "text": [
      "Não encontrei informações sobre trabalhos acadêmicos que envolvam blockchain na base de dados fornecida.\n"
     ]
    }
   ],
   "source": [
    "print(answer)"
   ]
  },
  {
   "cell_type": "code",
   "execution_count": 88,
   "metadata": {},
   "outputs": [
    {
     "name": "stdout",
     "output_type": "stream",
     "text": [
      "Input cost: $0.000002\n",
      "Output cost: $0.000010\n"
     ]
    }
   ],
   "source": [
    "get_cost(query, answer)"
   ]
  },
  {
   "cell_type": "markdown",
   "metadata": {},
   "source": [
    "## Q2"
   ]
  },
  {
   "cell_type": "code",
   "execution_count": 95,
   "metadata": {},
   "outputs": [],
   "source": [
    "query = \"Existe algum trabalho na base de dados que envolva blockchain na perspectiva de promover a segurança no compartilhamento dos dados dos pacientes?\"\n",
    "\n",
    "answer = rag_chain_with_source.invoke({\"prompt\": query})[\"answer\"]"
   ]
  },
  {
   "cell_type": "code",
   "execution_count": 96,
   "metadata": {},
   "outputs": [
    {
     "name": "stdout",
     "output_type": "stream",
     "text": [
      "query='blockchain segurança compartilhamento dados pacientes' filter=None limit=None\n"
     ]
    }
   ],
   "source": [
    "get_query_constructor(query)"
   ]
  },
  {
   "cell_type": "code",
   "execution_count": 97,
   "metadata": {},
   "outputs": [
    {
     "name": "stdout",
     "output_type": "stream",
     "text": [
      "Título: Plataforma RevELA: uma solução de saúde digital para a gestão do cuidado e vigilância dos pacientes com Esclerose Lateral Amiotrófica no Brasil (2023)  \n",
      "Autor: Ingridy Marina Pierre Barbalho (Doutorado)  \n",
      "Orientador: Ricardo Alexsandro de Medeiros Valentim  \n",
      "Resumo: A Esclerose Lateral Amiotrófica (ELA) é uma doença neurodegenerativa rara considerada complexa em virtude da sua heterogeneidade. Apesar de ser conhecida há muitos anos, poucos países têm informações precisas sobre a sua epidemiologia e as características dos indivíduos diagnosticados com ELA. No Brasil, a falta de informação sobre a ELA limita a utilização de dados para o avanço de pesquisas e desenvolvimento de políticas públicas que favoreçam pessoas acometidas por essa condição de saúde. Nesse sentido, esta tese tem como objetivo apresentar o desenvolvimento de uma solução de saúde digital para gestão do cuidado e monitoramento da doença ELA no Brasil, de forma a munir a vigilância em saúde com informações úteis e oportunas para embasar a formulação de políticas públicas e ao mesmo tempo qualificar e aprimorar o cuidado do acompanhamento dos pacientes com ELA. Este trabalho foi norteado pela metodologia de pesquisa-ação e todas as fases de desenvolvimento da plataforma foram realizadas de maneira sequencial em vários ciclos, através da aplicação do modelo iterativo e incremental usando o framework SCRUM. O desenvolvimento dessa solução contou com o apoio do Ministério da Saúde do Brasil e foi concebido em resposta às necessidades identificadas no cenário epidemiológico relacionado à doença, bem como às limitações relatadas por profissionais de saúde especializados no atendimento a pacientes com ELA. A solução desenvolvida é composta por duas plataformas: o Registro Nacional Brasileiro da ELA, responsável por coletar de forma estruturada dados epidemiológicos de pacientes com ELA em todo o Brasil; e o Prontuário Eletrônico para pacientes com ELA (PEP ELA), responsável por auxiliar no acompanhamento multidisciplinar dos pacientes com ELA, de maneira segura e adequada, com base nos Protocolos Clínicos e Diretrizes Terapêuticas (PCDT) da ELA. Na perspectiva de promover a segurança no compartilhamento dos dados dos pacientes, uma rede blockchain foi modelada para realizar transações realizadas na plataforma, garantindo assim maior nível de privacidade e segurança. A integração dos dados referente a vigilância e monitoramento pode apresentar benefícios significativos para o desenvolvimento de políticas públicas e o planejamento de estratégias em todos os níveis de atenção à saúde, além de fornecer uma visão realista da situação do país em relação aos casos. Portanto, esta solução de saúde digital pode ser utilizada como ferramenta de pesquisa, intervenção, monitoramento e fortalecimento da resposta à ELA no Sistema Único de Saúde do Brasil.  \n",
      "Palavras-chave: ('Esclerose Lateral Amiotrófica', 'Registro eletrônico em saúde', 'Solução de saúde digital', 'Saúde pública', 'Políticas públicas')  \n",
      "ODS: 3  \n"
     ]
    }
   ],
   "source": [
    "print(answer)"
   ]
  },
  {
   "cell_type": "code",
   "execution_count": 98,
   "metadata": {},
   "outputs": [
    {
     "name": "stdout",
     "output_type": "stream",
     "text": [
      "Input cost: $0.000004\n",
      "Output cost: $0.000368\n"
     ]
    }
   ],
   "source": [
    "get_cost(query, answer)"
   ]
  }
 ],
 "metadata": {
  "kernelspec": {
   "display_name": "venv-chathesis",
   "language": "python",
   "name": "python3"
  },
  "language_info": {
   "codemirror_mode": {
    "name": "ipython",
    "version": 3
   },
   "file_extension": ".py",
   "mimetype": "text/x-python",
   "name": "python",
   "nbconvert_exporter": "python",
   "pygments_lexer": "ipython3",
   "version": "3.10.12"
  }
 },
 "nbformat": 4,
 "nbformat_minor": 2
}
